{
 "cells": [
  {
   "cell_type": "code",
   "execution_count": 1,
   "id": "3f6b5fea",
   "metadata": {},
   "outputs": [],
   "source": [
    "import pandas as pd\n",
    "import numpy as np\n",
    "import networkx as nx\n",
    "import dowhy\n",
    "import matplotlib as plt\n",
    "\n",
    "from dowhy import gcm\n",
    "from dowhy import CausalModel"
   ]
  },
  {
   "cell_type": "code",
   "execution_count": 2,
   "id": "34bf4b12",
   "metadata": {},
   "outputs": [],
   "source": [
    "data_path = '../data/payments_phoenix_2022_processed.csv'\n",
    "df = pd.read_csv(data_path)"
   ]
  },
  {
   "cell_type": "markdown",
   "id": "30b1efab",
   "metadata": {},
   "source": [
    "Creating Causal Graph"
   ]
  },
  {
   "cell_type": "code",
   "execution_count": 3,
   "id": "3b43d9f7",
   "metadata": {},
   "outputs": [],
   "source": [
    "columns = df.columns"
   ]
  },
  {
   "cell_type": "code",
   "execution_count": 4,
   "id": "678e2548",
   "metadata": {},
   "outputs": [
    {
     "data": {
      "text/plain": [
       "Index(['Unnamed: 0', 'Name', 'Department', 'Job Title', 'Full/Part Time',\n",
       "       'Hourly Rate', 'Regular Pay', 'Overtime Pay', 'Other Pay',\n",
       "       'Benefits_Category', 'Hire_Date', 'Termination_Date', 'working_months',\n",
       "       'antiguity_months'],\n",
       "      dtype='object')"
      ]
     },
     "execution_count": 4,
     "metadata": {},
     "output_type": "execute_result"
    }
   ],
   "source": [
    "columns"
   ]
  },
  {
   "cell_type": "code",
   "execution_count": 5,
   "id": "492780f3",
   "metadata": {},
   "outputs": [
    {
     "data": {
      "text/html": [
       "<div>\n",
       "<style scoped>\n",
       "    .dataframe tbody tr th:only-of-type {\n",
       "        vertical-align: middle;\n",
       "    }\n",
       "\n",
       "    .dataframe tbody tr th {\n",
       "        vertical-align: top;\n",
       "    }\n",
       "\n",
       "    .dataframe thead th {\n",
       "        text-align: right;\n",
       "    }\n",
       "</style>\n",
       "<table border=\"1\" class=\"dataframe\">\n",
       "  <thead>\n",
       "    <tr style=\"text-align: right;\">\n",
       "      <th></th>\n",
       "      <th>Department</th>\n",
       "      <th>Job Title</th>\n",
       "      <th>Full/Part Time</th>\n",
       "      <th>Hourly Rate</th>\n",
       "      <th>Regular Pay</th>\n",
       "      <th>Overtime Pay</th>\n",
       "      <th>Other Pay</th>\n",
       "      <th>Benefits_Category</th>\n",
       "      <th>Hire_Date</th>\n",
       "      <th>Termination_Date</th>\n",
       "      <th>working_months</th>\n",
       "      <th>antiguity_months</th>\n",
       "    </tr>\n",
       "  </thead>\n",
       "  <tbody>\n",
       "    <tr>\n",
       "      <th>0</th>\n",
       "      <td>Police Department</td>\n",
       "      <td>Police Officer</td>\n",
       "      <td>F</td>\n",
       "      <td>37.79</td>\n",
       "      <td>71560.00</td>\n",
       "      <td>0.00</td>\n",
       "      <td>5238.09</td>\n",
       "      <td>4.0</td>\n",
       "      <td>1991-07-15</td>\n",
       "      <td>2022-01-01</td>\n",
       "      <td>365.609150</td>\n",
       "      <td>365.609150</td>\n",
       "    </tr>\n",
       "    <tr>\n",
       "      <th>1</th>\n",
       "      <td>Police Department</td>\n",
       "      <td>Police Officer</td>\n",
       "      <td>F</td>\n",
       "      <td>30.04</td>\n",
       "      <td>58472.80</td>\n",
       "      <td>2480.96</td>\n",
       "      <td>1490.57</td>\n",
       "      <td>4.0</td>\n",
       "      <td>2018-12-17</td>\n",
       "      <td>2022-01-01</td>\n",
       "      <td>36.501776</td>\n",
       "      <td>36.501776</td>\n",
       "    </tr>\n",
       "    <tr>\n",
       "      <th>2</th>\n",
       "      <td>Fire Department</td>\n",
       "      <td>Firefighter 56hr</td>\n",
       "      <td>F</td>\n",
       "      <td>24.48</td>\n",
       "      <td>65584.91</td>\n",
       "      <td>18186.03</td>\n",
       "      <td>1329.91</td>\n",
       "      <td>5.0</td>\n",
       "      <td>2008-01-14</td>\n",
       "      <td>2022-01-01</td>\n",
       "      <td>167.592764</td>\n",
       "      <td>167.592764</td>\n",
       "    </tr>\n",
       "    <tr>\n",
       "      <th>3</th>\n",
       "      <td>Police Department</td>\n",
       "      <td>Forensic Scientist IV</td>\n",
       "      <td>F</td>\n",
       "      <td>51.02</td>\n",
       "      <td>104979.20</td>\n",
       "      <td>0.00</td>\n",
       "      <td>1175.32</td>\n",
       "      <td>7.0</td>\n",
       "      <td>2009-12-28</td>\n",
       "      <td>2022-01-01</td>\n",
       "      <td>144.134376</td>\n",
       "      <td>144.134376</td>\n",
       "    </tr>\n",
       "    <tr>\n",
       "      <th>4</th>\n",
       "      <td>Parks &amp; Recreation: Aquatics</td>\n",
       "      <td>Parks &amp; Recreation Aide*Cash</td>\n",
       "      <td>P</td>\n",
       "      <td>12.92</td>\n",
       "      <td>5131.92</td>\n",
       "      <td>259.68</td>\n",
       "      <td>75.00</td>\n",
       "      <td>998.0</td>\n",
       "      <td>2010-04-19</td>\n",
       "      <td>2022-01-01</td>\n",
       "      <td>140.454629</td>\n",
       "      <td>140.454629</td>\n",
       "    </tr>\n",
       "  </tbody>\n",
       "</table>\n",
       "</div>"
      ],
      "text/plain": [
       "                     Department                     Job Title Full/Part Time  \\\n",
       "0             Police Department                Police Officer              F   \n",
       "1             Police Department                Police Officer              F   \n",
       "2               Fire Department              Firefighter 56hr              F   \n",
       "3             Police Department         Forensic Scientist IV              F   \n",
       "4  Parks & Recreation: Aquatics  Parks & Recreation Aide*Cash              P   \n",
       "\n",
       "   Hourly Rate  Regular Pay  Overtime Pay  Other Pay  Benefits_Category  \\\n",
       "0        37.79     71560.00          0.00    5238.09                4.0   \n",
       "1        30.04     58472.80       2480.96    1490.57                4.0   \n",
       "2        24.48     65584.91      18186.03    1329.91                5.0   \n",
       "3        51.02    104979.20          0.00    1175.32                7.0   \n",
       "4        12.92      5131.92        259.68      75.00              998.0   \n",
       "\n",
       "    Hire_Date Termination_Date  working_months  antiguity_months  \n",
       "0  1991-07-15       2022-01-01      365.609150        365.609150  \n",
       "1  2018-12-17       2022-01-01       36.501776         36.501776  \n",
       "2  2008-01-14       2022-01-01      167.592764        167.592764  \n",
       "3  2009-12-28       2022-01-01      144.134376        144.134376  \n",
       "4  2010-04-19       2022-01-01      140.454629        140.454629  "
      ]
     },
     "execution_count": 5,
     "metadata": {},
     "output_type": "execute_result"
    }
   ],
   "source": [
    "df_causal = df[columns[2:]].copy()\n",
    "df_causal.head()"
   ]
  },
  {
   "cell_type": "code",
   "execution_count": 6,
   "id": "7550f10c",
   "metadata": {},
   "outputs": [
    {
     "data": {
      "text/html": [
       "<div>\n",
       "<style scoped>\n",
       "    .dataframe tbody tr th:only-of-type {\n",
       "        vertical-align: middle;\n",
       "    }\n",
       "\n",
       "    .dataframe tbody tr th {\n",
       "        vertical-align: top;\n",
       "    }\n",
       "\n",
       "    .dataframe thead th {\n",
       "        text-align: right;\n",
       "    }\n",
       "</style>\n",
       "<table border=\"1\" class=\"dataframe\">\n",
       "  <thead>\n",
       "    <tr style=\"text-align: right;\">\n",
       "      <th></th>\n",
       "      <th>Department</th>\n",
       "      <th>Job Title</th>\n",
       "      <th>Full/Part Time</th>\n",
       "      <th>Hourly Rate</th>\n",
       "      <th>antiguity_months</th>\n",
       "    </tr>\n",
       "  </thead>\n",
       "  <tbody>\n",
       "    <tr>\n",
       "      <th>0</th>\n",
       "      <td>Police Department</td>\n",
       "      <td>Police Officer</td>\n",
       "      <td>F</td>\n",
       "      <td>37.79</td>\n",
       "      <td>365.609150</td>\n",
       "    </tr>\n",
       "    <tr>\n",
       "      <th>1</th>\n",
       "      <td>Police Department</td>\n",
       "      <td>Police Officer</td>\n",
       "      <td>F</td>\n",
       "      <td>30.04</td>\n",
       "      <td>36.501776</td>\n",
       "    </tr>\n",
       "    <tr>\n",
       "      <th>2</th>\n",
       "      <td>Fire Department</td>\n",
       "      <td>Firefighter 56hr</td>\n",
       "      <td>F</td>\n",
       "      <td>24.48</td>\n",
       "      <td>167.592764</td>\n",
       "    </tr>\n",
       "    <tr>\n",
       "      <th>3</th>\n",
       "      <td>Police Department</td>\n",
       "      <td>Forensic Scientist IV</td>\n",
       "      <td>F</td>\n",
       "      <td>51.02</td>\n",
       "      <td>144.134376</td>\n",
       "    </tr>\n",
       "    <tr>\n",
       "      <th>4</th>\n",
       "      <td>Parks &amp; Recreation: Aquatics</td>\n",
       "      <td>Parks &amp; Recreation Aide*Cash</td>\n",
       "      <td>P</td>\n",
       "      <td>12.92</td>\n",
       "      <td>140.454629</td>\n",
       "    </tr>\n",
       "  </tbody>\n",
       "</table>\n",
       "</div>"
      ],
      "text/plain": [
       "                     Department                     Job Title Full/Part Time  \\\n",
       "0             Police Department                Police Officer              F   \n",
       "1             Police Department                Police Officer              F   \n",
       "2               Fire Department              Firefighter 56hr              F   \n",
       "3             Police Department         Forensic Scientist IV              F   \n",
       "4  Parks & Recreation: Aquatics  Parks & Recreation Aide*Cash              P   \n",
       "\n",
       "   Hourly Rate  antiguity_months  \n",
       "0        37.79        365.609150  \n",
       "1        30.04         36.501776  \n",
       "2        24.48        167.592764  \n",
       "3        51.02        144.134376  \n",
       "4        12.92        140.454629  "
      ]
     },
     "execution_count": 6,
     "metadata": {},
     "output_type": "execute_result"
    }
   ],
   "source": [
    "causal_columns = ['Department','Job Title', 'Full/Part Time', 'Hourly Rate', 'antiguity_months']\n",
    "df_causal = df_causal[causal_columns]\n",
    "df_causal.head()"
   ]
  },
  {
   "cell_type": "code",
   "execution_count": 7,
   "id": "2c649ca6",
   "metadata": {},
   "outputs": [
    {
     "data": {
      "text/html": [
       "<div>\n",
       "<style scoped>\n",
       "    .dataframe tbody tr th:only-of-type {\n",
       "        vertical-align: middle;\n",
       "    }\n",
       "\n",
       "    .dataframe tbody tr th {\n",
       "        vertical-align: top;\n",
       "    }\n",
       "\n",
       "    .dataframe thead th {\n",
       "        text-align: right;\n",
       "    }\n",
       "</style>\n",
       "<table border=\"1\" class=\"dataframe\">\n",
       "  <thead>\n",
       "    <tr style=\"text-align: right;\">\n",
       "      <th></th>\n",
       "      <th>Department</th>\n",
       "      <th>Job Title</th>\n",
       "      <th>Full/Part Time</th>\n",
       "      <th>Hourly Rate</th>\n",
       "      <th>antiguity_months</th>\n",
       "      <th>FullPartTime</th>\n",
       "    </tr>\n",
       "  </thead>\n",
       "  <tbody>\n",
       "    <tr>\n",
       "      <th>0</th>\n",
       "      <td>Police Department</td>\n",
       "      <td>Police Officer</td>\n",
       "      <td>F</td>\n",
       "      <td>37.79</td>\n",
       "      <td>365.609150</td>\n",
       "      <td>1.0</td>\n",
       "    </tr>\n",
       "    <tr>\n",
       "      <th>1</th>\n",
       "      <td>Police Department</td>\n",
       "      <td>Police Officer</td>\n",
       "      <td>F</td>\n",
       "      <td>30.04</td>\n",
       "      <td>36.501776</td>\n",
       "      <td>1.0</td>\n",
       "    </tr>\n",
       "    <tr>\n",
       "      <th>2</th>\n",
       "      <td>Fire Department</td>\n",
       "      <td>Firefighter 56hr</td>\n",
       "      <td>F</td>\n",
       "      <td>24.48</td>\n",
       "      <td>167.592764</td>\n",
       "      <td>1.0</td>\n",
       "    </tr>\n",
       "    <tr>\n",
       "      <th>3</th>\n",
       "      <td>Police Department</td>\n",
       "      <td>Forensic Scientist IV</td>\n",
       "      <td>F</td>\n",
       "      <td>51.02</td>\n",
       "      <td>144.134376</td>\n",
       "      <td>1.0</td>\n",
       "    </tr>\n",
       "    <tr>\n",
       "      <th>4</th>\n",
       "      <td>Parks &amp; Recreation: Aquatics</td>\n",
       "      <td>Parks &amp; Recreation Aide*Cash</td>\n",
       "      <td>P</td>\n",
       "      <td>12.92</td>\n",
       "      <td>140.454629</td>\n",
       "      <td>0.0</td>\n",
       "    </tr>\n",
       "    <tr>\n",
       "      <th>5</th>\n",
       "      <td>Human Services Department</td>\n",
       "      <td>Secretary II</td>\n",
       "      <td>F</td>\n",
       "      <td>15.98</td>\n",
       "      <td>24.082630</td>\n",
       "      <td>1.0</td>\n",
       "    </tr>\n",
       "    <tr>\n",
       "      <th>6</th>\n",
       "      <td>Street Transportation Dept</td>\n",
       "      <td>Environmental Quality Spec</td>\n",
       "      <td>F</td>\n",
       "      <td>41.78</td>\n",
       "      <td>63.639910</td>\n",
       "      <td>1.0</td>\n",
       "    </tr>\n",
       "    <tr>\n",
       "      <th>7</th>\n",
       "      <td>Planning &amp; Development Dept</td>\n",
       "      <td>Chief Engineering Tech*U7</td>\n",
       "      <td>F</td>\n",
       "      <td>23.58</td>\n",
       "      <td>63.179942</td>\n",
       "      <td>1.0</td>\n",
       "    </tr>\n",
       "    <tr>\n",
       "      <th>8</th>\n",
       "      <td>Public Transit</td>\n",
       "      <td>Municipal Security Guard</td>\n",
       "      <td>F</td>\n",
       "      <td>22.64</td>\n",
       "      <td>38.801618</td>\n",
       "      <td>1.0</td>\n",
       "    </tr>\n",
       "    <tr>\n",
       "      <th>9</th>\n",
       "      <td>Water Services Department</td>\n",
       "      <td>GIS Coordinator</td>\n",
       "      <td>F</td>\n",
       "      <td>43.92</td>\n",
       "      <td>272.465554</td>\n",
       "      <td>1.0</td>\n",
       "    </tr>\n",
       "  </tbody>\n",
       "</table>\n",
       "</div>"
      ],
      "text/plain": [
       "                     Department                     Job Title Full/Part Time  \\\n",
       "0             Police Department                Police Officer              F   \n",
       "1             Police Department                Police Officer              F   \n",
       "2               Fire Department              Firefighter 56hr              F   \n",
       "3             Police Department         Forensic Scientist IV              F   \n",
       "4  Parks & Recreation: Aquatics  Parks & Recreation Aide*Cash              P   \n",
       "5     Human Services Department                  Secretary II              F   \n",
       "6    Street Transportation Dept    Environmental Quality Spec              F   \n",
       "7   Planning & Development Dept     Chief Engineering Tech*U7              F   \n",
       "8                Public Transit      Municipal Security Guard              F   \n",
       "9     Water Services Department               GIS Coordinator              F   \n",
       "\n",
       "   Hourly Rate  antiguity_months  FullPartTime  \n",
       "0        37.79        365.609150           1.0  \n",
       "1        30.04         36.501776           1.0  \n",
       "2        24.48        167.592764           1.0  \n",
       "3        51.02        144.134376           1.0  \n",
       "4        12.92        140.454629           0.0  \n",
       "5        15.98         24.082630           1.0  \n",
       "6        41.78         63.639910           1.0  \n",
       "7        23.58         63.179942           1.0  \n",
       "8        22.64         38.801618           1.0  \n",
       "9        43.92        272.465554           1.0  "
      ]
     },
     "execution_count": 7,
     "metadata": {},
     "output_type": "execute_result"
    }
   ],
   "source": [
    "cat_columns = ['Department','Job Title', 'Full/Part Time']\n",
    "df_causal[cat_columns] = df_causal[cat_columns].astype('category')\n",
    "df_causal.loc[df_causal['Full/Part Time'] == \"F\", \"FullPartTime\"] = 1.0\n",
    "df_causal.loc[df_causal['Full/Part Time'] == \"P\", \"FullPartTime\"] = 0.0\n",
    "df_causal[0:10]"
   ]
  },
  {
   "cell_type": "code",
   "execution_count": 8,
   "id": "403c663a",
   "metadata": {},
   "outputs": [
    {
     "name": "stdout",
     "output_type": "stream",
     "text": [
      "<class 'pandas.core.frame.DataFrame'>\n",
      "RangeIndex: 15083 entries, 0 to 15082\n",
      "Data columns (total 6 columns):\n",
      " #   Column            Non-Null Count  Dtype   \n",
      "---  ------            --------------  -----   \n",
      " 0   Department        15082 non-null  category\n",
      " 1   Job Title         15082 non-null  category\n",
      " 2   Full/Part Time    15082 non-null  category\n",
      " 3   Hourly Rate       15082 non-null  float64 \n",
      " 4   antiguity_months  15082 non-null  float64 \n",
      " 5   FullPartTime      15082 non-null  float64 \n",
      "dtypes: category(3), float64(3)\n",
      "memory usage: 436.1 KB\n"
     ]
    }
   ],
   "source": [
    "df_causal.info()"
   ]
  },
  {
   "cell_type": "code",
   "execution_count": 9,
   "id": "2adcec59",
   "metadata": {},
   "outputs": [
    {
     "data": {
      "text/plain": [
       "count    15082.000000\n",
       "mean         0.904257\n",
       "std          0.294249\n",
       "min          0.000000\n",
       "25%          1.000000\n",
       "50%          1.000000\n",
       "75%          1.000000\n",
       "max          1.000000\n",
       "Name: FullPartTime, dtype: float64"
      ]
     },
     "execution_count": 9,
     "metadata": {},
     "output_type": "execute_result"
    }
   ],
   "source": [
    "df_causal['FullPartTime'].describe()\n"
   ]
  },
  {
   "cell_type": "code",
   "execution_count": 10,
   "id": "fd4e8e0a",
   "metadata": {},
   "outputs": [
    {
     "data": {
      "text/plain": [
       "array([1., 0.])"
      ]
     },
     "execution_count": 10,
     "metadata": {},
     "output_type": "execute_result"
    }
   ],
   "source": [
    "df_causal = df_causal.dropna()\n",
    "df_causal['FullPartTime'].unique()"
   ]
  },
  {
   "cell_type": "code",
   "execution_count": 11,
   "id": "9799ced7",
   "metadata": {},
   "outputs": [
    {
     "ename": "NameError",
     "evalue": "name 'df_jobtitle' is not defined",
     "output_type": "error",
     "traceback": [
      "\u001b[0;31m---------------------------------------------------------------------------\u001b[0m",
      "\u001b[0;31mNameError\u001b[0m                                 Traceback (most recent call last)",
      "Cell \u001b[0;32mIn[11], line 1\u001b[0m\n\u001b[0;32m----> 1\u001b[0m \u001b[43mdf_jobtitle\u001b[49m\u001b[38;5;241m.\u001b[39minfo()\n",
      "\u001b[0;31mNameError\u001b[0m: name 'df_jobtitle' is not defined"
     ]
    }
   ],
   "source": [
    "df_jobtitle.info()"
   ]
  },
  {
   "cell_type": "code",
   "execution_count": 12,
   "id": "24e8c648",
   "metadata": {},
   "outputs": [],
   "source": [
    "causal_graph = nx.DiGraph()\n"
   ]
  },
  {
   "cell_type": "code",
   "execution_count": 13,
   "id": "e052a7ce",
   "metadata": {},
   "outputs": [],
   "source": [
    "causal_graph.add_edges_from([('Department', 'Job Title'), ('Job Title', 'Hourly Rate'), ('FullPartTime', 'Hourly Rate'),\n",
    "                ('Department', 'FullPartTime'), ('antiguity_months', 'Hourly Rate')])"
   ]
  },
  {
   "cell_type": "code",
   "execution_count": 14,
   "id": "4bf04ff1",
   "metadata": {},
   "outputs": [
    {
     "data": {
      "image/png": "[encoded data removed]",
      "text/plain": [
       "<Figure size 640x480 with 1 Axes>"
      ]
     },
     "metadata": {},
     "output_type": "display_data"
    }
   ],
   "source": [
    "\n",
    "nx.draw_networkx(causal_graph, with_labels = True, arrows = True)\n"
   ]
  },
  {
   "cell_type": "markdown",
   "id": "090eeab4",
   "metadata": {},
   "source": [
    "I want to measure the arrow strenghs:\n",
    "\n",
    "1. using DoWhy\n",
    "2. using GMC\n",
    "\n",
    "Then.. can I do it with a non-binary variable?\n",
    "\n",
    "**We have to simplify the model since dowhy per se only work with numerical values. Steps:**\n",
    "\n",
    "1. Simplified model with DoWhy and GMC\n",
    "2. One-hot encoding of the department\n",
    "3. Using EconML for categorical variables\n",
    "4. Using CausalML for categorical variables\n",
    "5. Using GMC\n",
    "6. Conclusions"
   ]
  },
  {
   "cell_type": "code",
   "execution_count": 15,
   "id": "b0b8a0ad",
   "metadata": {},
   "outputs": [],
   "source": [
    "graph_string = \"\"\"graph [\n",
    "  directed 1\n",
    "  node [\n",
    "    id 0\n",
    "    label \"antiguity_months\"\n",
    "  ]\n",
    "  node [\n",
    "    id 1\n",
    "    label \"Hourly Rate\"\n",
    "  ]\n",
    "  node [\n",
    "    id 2\n",
    "    label \"FullPartTime\"\n",
    "  ]\n",
    "  node [\n",
    "    id 3\n",
    "    label \"Job Title\"\n",
    "  ]\n",
    "  node [\n",
    "    id 4\n",
    "    label \"Department\"\n",
    "  ]\n",
    "  edge [\n",
    "    source 0\n",
    "    target 1\n",
    "  ]\n",
    "  edge [\n",
    "    source 2\n",
    "    target 1\n",
    "  ]\n",
    "  edge [\n",
    "    source 3\n",
    "    target 1\n",
    "  ]\n",
    "  edge [\n",
    "    source 4\n",
    "    target 3\n",
    "  ]\n",
    "  edge [\n",
    "    source 4\n",
    "    target 2\n",
    "  ]\n",
    "]\n",
    "\n",
    "\"\"\""
   ]
  },
  {
   "cell_type": "code",
   "execution_count": 16,
   "id": "f857910f",
   "metadata": {},
   "outputs": [],
   "source": [
    "graph_string_simple_1 = \"\"\"graph [\n",
    "  directed 1\n",
    "  node [\n",
    "    id 0\n",
    "    label \"antiguity_months\"\n",
    "  ]\n",
    "  node [\n",
    "    id 1\n",
    "    label \"Hourly Rate\"\n",
    "  ]\n",
    "  node [\n",
    "    id 2\n",
    "    label \"FullPartTime\"\n",
    "  ]\n",
    "  edge [\n",
    "    source 0\n",
    "    target 1\n",
    "  ]\n",
    "  edge [\n",
    "    source 2\n",
    "    target 1\n",
    "  ]\n",
    "]\n",
    "\n",
    "\"\"\""
   ]
  },
  {
   "cell_type": "code",
   "execution_count": 17,
   "id": "ebbe22e1",
   "metadata": {},
   "outputs": [],
   "source": [
    "model = CausalModel(\n",
    "        data = df_causal,\n",
    "        treatment = 'FullPartTime',\n",
    "        outcome = 'Hourly Rate',\n",
    "        graph = graph_string_simple_1 \n",
    "        )\n",
    "model.view_model()"
   ]
  },
  {
   "cell_type": "code",
   "execution_count": 18,
   "id": "57edc844",
   "metadata": {},
   "outputs": [
    {
     "name": "stdout",
     "output_type": "stream",
     "text": [
      "Estimand type: nonparametric-ate\n",
      "\n",
      "### Estimand : 1\n",
      "Estimand name: backdoor\n",
      "Estimand expression:\n",
      "       d                       \n",
      "───────────────(E[Hourly Rate])\n",
      "d[FullPartTime]                \n",
      "Estimand assumption 1, Unconfoundedness: If U→{FullPartTime} and U→Hourly Rate then P(Hourly Rate|FullPartTime,,U) = P(Hourly Rate|FullPartTime,)\n",
      "\n",
      "### Estimand : 2\n",
      "Estimand name: iv\n",
      "No such variable(s) found!\n",
      "\n",
      "### Estimand : 3\n",
      "Estimand name: frontdoor\n",
      "No such variable(s) found!\n",
      "\n"
     ]
    }
   ],
   "source": [
    "#Identify the causal effect\n",
    "identified_estimand = model.identify_effect(proceed_when_unidentifiable=True, method_name=\"maximal-adjustment\")\n",
    "print(identified_estimand)"
   ]
  },
  {
   "cell_type": "code",
   "execution_count": 19,
   "id": "8ebda87e",
   "metadata": {},
   "outputs": [
    {
     "name": "stdout",
     "output_type": "stream",
     "text": [
      "linear_regression\n",
      "{'control_value': 0, 'treatment_value': 1, 'test_significance': True, 'evaluate_effect_strength': False, 'confidence_intervals': False, 'target_units': 'ate', 'effect_modifiers': ['antiguity_months']}\n",
      "*** Causal Estimate ***\n",
      "\n",
      "## Identified estimand\n",
      "Estimand type: nonparametric-ate\n",
      "\n",
      "### Estimand : 1\n",
      "Estimand name: backdoor\n",
      "Estimand expression:\n",
      "       d                       \n",
      "───────────────(E[Hourly Rate])\n",
      "d[FullPartTime]                \n",
      "Estimand assumption 1, Unconfoundedness: If U→{FullPartTime} and U→Hourly Rate then P(Hourly Rate|FullPartTime,,U) = P(Hourly Rate|FullPartTime,)\n",
      "\n",
      "## Realized estimand\n",
      "b: Hourly Rate~FullPartTime+FullPartTime*antiguity_months\n",
      "Target units: ate\n",
      "\n",
      "## Estimate\n",
      "Mean value: 14.113457003531288\n",
      "p-value: [7.02794453e-161]\n",
      "### Conditional Estimates\n",
      "__categorical__antiguity_months\n",
      "(0.623, 33.282]        9.140151\n",
      "(33.282, 74.219]      10.567683\n",
      "(74.219, 180.012]     13.604722\n",
      "(180.012, 251.767]    16.735689\n",
      "(251.767, 576.965]    20.603251\n",
      "dtype: float64\n"
     ]
    }
   ],
   "source": [
    "# Estimate the causal effect and compare it with Average Treatment Effect\n",
    "estimate = model.estimate_effect(identified_estimand,\n",
    "        method_name=\"backdoor.linear_regression\", test_significance=True\n",
    ")\n",
    "\n",
    "print(estimate)"
   ]
  },
  {
   "cell_type": "code",
   "execution_count": 20,
   "id": "83bf4589",
   "metadata": {},
   "outputs": [
    {
     "name": "stdout",
     "output_type": "stream",
     "text": [
      "Causal Estimate is 14.113457003531288\n"
     ]
    }
   ],
   "source": [
    "print(\"Causal Estimate is \" + str(estimate.value))"
   ]
  },
  {
   "cell_type": "markdown",
   "id": "f778afe9",
   "metadata": {},
   "source": [
    "**The effect of to have a Full Time job, in avergage, increases the hourly rate by 14.11 USD, and it is clearly affected by the antiguity**"
   ]
  },
  {
   "cell_type": "code",
   "execution_count": 21,
   "id": "5a889902",
   "metadata": {},
   "outputs": [
    {
     "name": "stdout",
     "output_type": "stream",
     "text": [
      "Estimand type: nonparametric-ate\n",
      "\n",
      "### Estimand : 1\n",
      "Estimand name: backdoor\n",
      "Estimand expression:\n",
      "        d                         \n",
      "──────────────────(E[Hourly Rate])\n",
      "d[antiguityₘₒₙₜₕₛ]                \n",
      "Estimand assumption 1, Unconfoundedness: If U→{antiguity_months} and U→Hourly Rate then P(Hourly Rate|antiguity_months,,U) = P(Hourly Rate|antiguity_months,)\n",
      "\n",
      "### Estimand : 2\n",
      "Estimand name: iv\n",
      "No such variable(s) found!\n",
      "\n",
      "### Estimand : 3\n",
      "Estimand name: frontdoor\n",
      "No such variable(s) found!\n",
      "\n",
      "linear_regression\n",
      "{'control_value': 0, 'treatment_value': 1, 'test_significance': True, 'evaluate_effect_strength': False, 'confidence_intervals': False, 'target_units': 'ate', 'effect_modifiers': ['FullPartTime']}\n",
      "*** Causal Estimate ***\n",
      "\n",
      "## Identified estimand\n",
      "Estimand type: nonparametric-ate\n",
      "\n",
      "### Estimand : 1\n",
      "Estimand name: backdoor\n",
      "Estimand expression:\n",
      "        d                         \n",
      "──────────────────(E[Hourly Rate])\n",
      "d[antiguityₘₒₙₜₕₛ]                \n",
      "Estimand assumption 1, Unconfoundedness: If U→{antiguity_months} and U→Hourly Rate then P(Hourly Rate|antiguity_months,,U) = P(Hourly Rate|antiguity_months,)\n",
      "\n",
      "## Realized estimand\n",
      "b: Hourly Rate~antiguity_months+antiguity_months*FullPartTime\n",
      "Target units: ate\n",
      "\n",
      "## Estimate\n",
      "Mean value: 0.03825942969833207\n",
      "p-value: [6.07384458e-26]\n",
      "### Conditional Estimates\n",
      "__categorical__FullPartTime\n",
      "(-0.001, 1.0]    0.038259\n",
      "dtype: float64\n"
     ]
    }
   ],
   "source": [
    "model_ant = CausalModel(\n",
    "        data = df_causal,\n",
    "        treatment = 'antiguity_months',\n",
    "        outcome = 'Hourly Rate',\n",
    "        graph = graph_string_simple_1 \n",
    "        )\n",
    "model_ant.view_model()\n",
    "#Identify the causal effect\n",
    "identified_estimand_ant = model_ant.identify_effect(proceed_when_unidentifiable=True, method_name=\"maximal-adjustment\")\n",
    "print(identified_estimand_ant)\n",
    "# Estimate the causal effect and compare it with Average Treatment Effect\n",
    "estimate_ant = model_ant.estimate_effect(identified_estimand_ant,\n",
    "        method_name=\"backdoor.linear_regression\", test_significance=True\n",
    ")\n",
    "\n",
    "print(estimate_ant)\n"
   ]
  },
  {
   "cell_type": "markdown",
   "id": "ea32019c",
   "metadata": {},
   "source": [
    "**But it looks like Antiguity does not affect too much to the hourly rate ???** \n",
    "\n",
    "Let's repite the expiremnt with GCM\n",
    "\n",
    "What will happen to the variable Z if I intervene on Y?\n",
    "\n",
    "This intervention says: \"I'll ignore any causal effects of X on Y, and set every value of Y to 2.34.\" So the distribution of X will remain unchanged, whereas values of Y will be at a fixed value and Z will respond according to its causal model."
   ]
  },
  {
   "cell_type": "code",
   "execution_count": 22,
   "id": "cfe68e86",
   "metadata": {},
   "outputs": [
    {
     "data": {
      "image/png": "[encoded data removed]",
      "text/plain": [
       "<Figure size 640x480 with 1 Axes>"
      ]
     },
     "metadata": {},
     "output_type": "display_data"
    }
   ],
   "source": [
    "causal_graph = nx.DiGraph()\n",
    "causal_graph.add_edges_from([('FullPartTime', 'Hourly Rate'),\n",
    "                             ('antiguity_months', 'Hourly Rate')])\n",
    "nx.draw_networkx(causal_graph, with_labels = True, arrows = True)"
   ]
  },
  {
   "cell_type": "code",
   "execution_count": 23,
   "id": "8e885a26",
   "metadata": {},
   "outputs": [],
   "source": [
    "causal_model = gcm.StructuralCausalModel(causal_graph)\n",
    "gcm.auto.assign_causal_mechanisms(causal_model, df_causal)"
   ]
  },
  {
   "cell_type": "code",
   "execution_count": 24,
   "id": "4516223a",
   "metadata": {},
   "outputs": [
    {
     "name": "stderr",
     "output_type": "stream",
     "text": [
      "Fitting causal mechanism of node antiguity_months: 100%|████████████████████████████████████████████████████| 3/3 [00:00<00:00, 172.84it/s]\n"
     ]
    }
   ],
   "source": [
    "gcm.fit(causal_model, df_causal)"
   ]
  },
  {
   "cell_type": "code",
   "execution_count": 25,
   "id": "d1a100fc",
   "metadata": {},
   "outputs": [
    {
     "data": {
      "text/html": [
       "<div>\n",
       "<style scoped>\n",
       "    .dataframe tbody tr th:only-of-type {\n",
       "        vertical-align: middle;\n",
       "    }\n",
       "\n",
       "    .dataframe tbody tr th {\n",
       "        vertical-align: top;\n",
       "    }\n",
       "\n",
       "    .dataframe thead th {\n",
       "        text-align: right;\n",
       "    }\n",
       "</style>\n",
       "<table border=\"1\" class=\"dataframe\">\n",
       "  <thead>\n",
       "    <tr style=\"text-align: right;\">\n",
       "      <th></th>\n",
       "      <th>FullPartTime</th>\n",
       "      <th>antiguity_months</th>\n",
       "      <th>Hourly Rate</th>\n",
       "    </tr>\n",
       "  </thead>\n",
       "  <tbody>\n",
       "    <tr>\n",
       "      <th>0</th>\n",
       "      <td>1.0</td>\n",
       "      <td>120</td>\n",
       "      <td>21.480899</td>\n",
       "    </tr>\n",
       "    <tr>\n",
       "      <th>1</th>\n",
       "      <td>0.0</td>\n",
       "      <td>120</td>\n",
       "      <td>39.982579</td>\n",
       "    </tr>\n",
       "    <tr>\n",
       "      <th>2</th>\n",
       "      <td>1.0</td>\n",
       "      <td>120</td>\n",
       "      <td>21.953412</td>\n",
       "    </tr>\n",
       "    <tr>\n",
       "      <th>3</th>\n",
       "      <td>0.0</td>\n",
       "      <td>120</td>\n",
       "      <td>18.237579</td>\n",
       "    </tr>\n",
       "    <tr>\n",
       "      <th>4</th>\n",
       "      <td>1.0</td>\n",
       "      <td>120</td>\n",
       "      <td>43.180415</td>\n",
       "    </tr>\n",
       "    <tr>\n",
       "      <th>5</th>\n",
       "      <td>1.0</td>\n",
       "      <td>120</td>\n",
       "      <td>20.510050</td>\n",
       "    </tr>\n",
       "    <tr>\n",
       "      <th>6</th>\n",
       "      <td>1.0</td>\n",
       "      <td>120</td>\n",
       "      <td>39.555603</td>\n",
       "    </tr>\n",
       "    <tr>\n",
       "      <th>7</th>\n",
       "      <td>1.0</td>\n",
       "      <td>120</td>\n",
       "      <td>30.206301</td>\n",
       "    </tr>\n",
       "    <tr>\n",
       "      <th>8</th>\n",
       "      <td>1.0</td>\n",
       "      <td>120</td>\n",
       "      <td>30.045810</td>\n",
       "    </tr>\n",
       "    <tr>\n",
       "      <th>9</th>\n",
       "      <td>1.0</td>\n",
       "      <td>120</td>\n",
       "      <td>27.630490</td>\n",
       "    </tr>\n",
       "  </tbody>\n",
       "</table>\n",
       "</div>"
      ],
      "text/plain": [
       "   FullPartTime  antiguity_months  Hourly Rate\n",
       "0           1.0               120    21.480899\n",
       "1           0.0               120    39.982579\n",
       "2           1.0               120    21.953412\n",
       "3           0.0               120    18.237579\n",
       "4           1.0               120    43.180415\n",
       "5           1.0               120    20.510050\n",
       "6           1.0               120    39.555603\n",
       "7           1.0               120    30.206301\n",
       "8           1.0               120    30.045810\n",
       "9           1.0               120    27.630490"
      ]
     },
     "execution_count": 25,
     "metadata": {},
     "output_type": "execute_result"
    }
   ],
   "source": [
    "samples = gcm.interventional_samples(causal_model,\n",
    "                                     {'antiguity_months': lambda y: 120 },\n",
    "                                     num_samples_to_draw=1000)\n",
    "samples[0:10]"
   ]
  },
  {
   "cell_type": "code",
   "execution_count": 26,
   "id": "2387f582",
   "metadata": {},
   "outputs": [
    {
     "data": {
      "text/html": [
       "<div>\n",
       "<style scoped>\n",
       "    .dataframe tbody tr th:only-of-type {\n",
       "        vertical-align: middle;\n",
       "    }\n",
       "\n",
       "    .dataframe tbody tr th {\n",
       "        vertical-align: top;\n",
       "    }\n",
       "\n",
       "    .dataframe thead th {\n",
       "        text-align: right;\n",
       "    }\n",
       "</style>\n",
       "<table border=\"1\" class=\"dataframe\">\n",
       "  <thead>\n",
       "    <tr style=\"text-align: right;\">\n",
       "      <th></th>\n",
       "      <th>Department</th>\n",
       "      <th>Job Title</th>\n",
       "      <th>Full/Part Time</th>\n",
       "      <th>Hourly Rate</th>\n",
       "      <th>antiguity_months</th>\n",
       "      <th>FullPartTime</th>\n",
       "    </tr>\n",
       "  </thead>\n",
       "  <tbody>\n",
       "    <tr>\n",
       "      <th>0</th>\n",
       "      <td>Police Department</td>\n",
       "      <td>Police Officer</td>\n",
       "      <td>F</td>\n",
       "      <td>37.79</td>\n",
       "      <td>365.609150</td>\n",
       "      <td>1.0</td>\n",
       "    </tr>\n",
       "    <tr>\n",
       "      <th>1</th>\n",
       "      <td>Police Department</td>\n",
       "      <td>Police Officer</td>\n",
       "      <td>F</td>\n",
       "      <td>30.04</td>\n",
       "      <td>36.501776</td>\n",
       "      <td>1.0</td>\n",
       "    </tr>\n",
       "    <tr>\n",
       "      <th>2</th>\n",
       "      <td>Fire Department</td>\n",
       "      <td>Firefighter 56hr</td>\n",
       "      <td>F</td>\n",
       "      <td>24.48</td>\n",
       "      <td>167.592764</td>\n",
       "      <td>1.0</td>\n",
       "    </tr>\n",
       "    <tr>\n",
       "      <th>3</th>\n",
       "      <td>Police Department</td>\n",
       "      <td>Forensic Scientist IV</td>\n",
       "      <td>F</td>\n",
       "      <td>51.02</td>\n",
       "      <td>144.134376</td>\n",
       "      <td>1.0</td>\n",
       "    </tr>\n",
       "    <tr>\n",
       "      <th>4</th>\n",
       "      <td>Parks &amp; Recreation: Aquatics</td>\n",
       "      <td>Parks &amp; Recreation Aide*Cash</td>\n",
       "      <td>P</td>\n",
       "      <td>12.92</td>\n",
       "      <td>140.454629</td>\n",
       "      <td>0.0</td>\n",
       "    </tr>\n",
       "    <tr>\n",
       "      <th>5</th>\n",
       "      <td>Human Services Department</td>\n",
       "      <td>Secretary II</td>\n",
       "      <td>F</td>\n",
       "      <td>15.98</td>\n",
       "      <td>24.082630</td>\n",
       "      <td>1.0</td>\n",
       "    </tr>\n",
       "    <tr>\n",
       "      <th>6</th>\n",
       "      <td>Street Transportation Dept</td>\n",
       "      <td>Environmental Quality Spec</td>\n",
       "      <td>F</td>\n",
       "      <td>41.78</td>\n",
       "      <td>63.639910</td>\n",
       "      <td>1.0</td>\n",
       "    </tr>\n",
       "    <tr>\n",
       "      <th>7</th>\n",
       "      <td>Planning &amp; Development Dept</td>\n",
       "      <td>Chief Engineering Tech*U7</td>\n",
       "      <td>F</td>\n",
       "      <td>23.58</td>\n",
       "      <td>63.179942</td>\n",
       "      <td>1.0</td>\n",
       "    </tr>\n",
       "    <tr>\n",
       "      <th>8</th>\n",
       "      <td>Public Transit</td>\n",
       "      <td>Municipal Security Guard</td>\n",
       "      <td>F</td>\n",
       "      <td>22.64</td>\n",
       "      <td>38.801618</td>\n",
       "      <td>1.0</td>\n",
       "    </tr>\n",
       "    <tr>\n",
       "      <th>9</th>\n",
       "      <td>Water Services Department</td>\n",
       "      <td>GIS Coordinator</td>\n",
       "      <td>F</td>\n",
       "      <td>43.92</td>\n",
       "      <td>272.465554</td>\n",
       "      <td>1.0</td>\n",
       "    </tr>\n",
       "  </tbody>\n",
       "</table>\n",
       "</div>"
      ],
      "text/plain": [
       "                     Department                     Job Title Full/Part Time  \\\n",
       "0             Police Department                Police Officer              F   \n",
       "1             Police Department                Police Officer              F   \n",
       "2               Fire Department              Firefighter 56hr              F   \n",
       "3             Police Department         Forensic Scientist IV              F   \n",
       "4  Parks & Recreation: Aquatics  Parks & Recreation Aide*Cash              P   \n",
       "5     Human Services Department                  Secretary II              F   \n",
       "6    Street Transportation Dept    Environmental Quality Spec              F   \n",
       "7   Planning & Development Dept     Chief Engineering Tech*U7              F   \n",
       "8                Public Transit      Municipal Security Guard              F   \n",
       "9     Water Services Department               GIS Coordinator              F   \n",
       "\n",
       "   Hourly Rate  antiguity_months  FullPartTime  \n",
       "0        37.79        365.609150           1.0  \n",
       "1        30.04         36.501776           1.0  \n",
       "2        24.48        167.592764           1.0  \n",
       "3        51.02        144.134376           1.0  \n",
       "4        12.92        140.454629           0.0  \n",
       "5        15.98         24.082630           1.0  \n",
       "6        41.78         63.639910           1.0  \n",
       "7        23.58         63.179942           1.0  \n",
       "8        22.64         38.801618           1.0  \n",
       "9        43.92        272.465554           1.0  "
      ]
     },
     "execution_count": 26,
     "metadata": {},
     "output_type": "execute_result"
    }
   ],
   "source": [
    "df_causal[0:10]"
   ]
  },
  {
   "cell_type": "markdown",
   "id": "10fb9382",
   "metadata": {},
   "source": [
    "Can we measure the arrow strengh?"
   ]
  },
  {
   "cell_type": "code",
   "execution_count": 27,
   "id": "5e420bfd",
   "metadata": {},
   "outputs": [],
   "source": [
    "strength = gcm.arrow_strength(causal_model, 'Hourly Rate')"
   ]
  },
  {
   "cell_type": "code",
   "execution_count": 28,
   "id": "81995873",
   "metadata": {},
   "outputs": [
    {
     "data": {
      "text/plain": [
       "{('FullPartTime', 'Hourly Rate'): 10.589031530947931,\n",
       " ('antiguity_months', 'Hourly Rate'): 17.87206191278576}"
      ]
     },
     "execution_count": 28,
     "metadata": {},
     "output_type": "execute_result"
    }
   ],
   "source": [
    "strength"
   ]
  },
  {
   "cell_type": "code",
   "execution_count": 29,
   "id": "121fded8",
   "metadata": {},
   "outputs": [
    {
     "data": {
      "image/png": "[encoded data removed]",
      "text/latex": [
       "$\\displaystyle 11.327769116822$"
      ],
      "text/plain": [
       "11.327769116822001"
      ]
     },
     "execution_count": 29,
     "metadata": {},
     "output_type": "execute_result"
    }
   ],
   "source": [
    "gcm.average_causal_effect(causal_model,\n",
    "                         'Hourly Rate',\n",
    "                         interventions_alternative={'FullPartTime': lambda x: 1},\n",
    "                         interventions_reference={'FullPartTime': lambda x: 0},\n",
    "                         num_samples_to_draw=1000)"
   ]
  },
  {
   "cell_type": "markdown",
   "id": "86d37ca3",
   "metadata": {},
   "source": [
    "It is consistent with the computations from DoWhy (more or less)"
   ]
  },
  {
   "cell_type": "code",
   "execution_count": 30,
   "id": "a941e865",
   "metadata": {},
   "outputs": [
    {
     "data": {
      "image/png": "[encoded data removed]",
      "text/latex": [
       "$\\displaystyle 3.81042277653488$"
      ],
      "text/plain": [
       "3.8104227765348817"
      ]
     },
     "execution_count": 30,
     "metadata": {},
     "output_type": "execute_result"
    }
   ],
   "source": [
    "gcm.average_causal_effect(causal_model,\n",
    "                         'Hourly Rate',\n",
    "                         interventions_alternative={'antiguity_months': lambda x: 120},\n",
    "                         interventions_reference={'antiguity_months': lambda x: 12},\n",
    "                         num_samples_to_draw=1000)"
   ]
  },
  {
   "cell_type": "code",
   "execution_count": null,
   "id": "6fbb7c16",
   "metadata": {},
   "outputs": [],
   "source": []
  }
 ],
 "metadata": {
  "kernelspec": {
   "display_name": "Causal DS",
   "language": "python",
   "name": "causalds"
  },
  "language_info": {
   "codemirror_mode": {
    "name": "ipython",
    "version": 3
   },
   "file_extension": ".py",
   "mimetype": "text/x-python",
   "name": "python",
   "nbconvert_exporter": "python",
   "pygments_lexer": "ipython3",
   "version": "3.9.16"
  }
 },
 "nbformat": 4,
 "nbformat_minor": 5
}
